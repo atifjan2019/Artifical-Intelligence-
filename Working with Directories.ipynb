{
 "cells": [
  {
   "cell_type": "code",
   "execution_count": 30,
   "id": "2fc4faaa",
   "metadata": {},
   "outputs": [],
   "source": [
    "import os"
   ]
  },
  {
   "cell_type": "code",
   "execution_count": 31,
   "id": "5ebc8e4b",
   "metadata": {},
   "outputs": [
    {
     "name": "stdout",
     "output_type": "stream",
     "text": [
      "c:\\Users\\Atif\\AI\n"
     ]
    }
   ],
   "source": [
    "print(os.getcwd())"
   ]
  },
  {
   "cell_type": "code",
   "execution_count": 32,
   "id": "d14329d4",
   "metadata": {},
   "outputs": [
    {
     "name": "stdout",
     "output_type": "stream",
     "text": [
      "e:\\\n"
     ]
    }
   ],
   "source": [
    "os.chdir(\"e:\\\\\")\n",
    "print(os.getcwd())"
   ]
  },
  {
   "cell_type": "code",
   "execution_count": 33,
   "id": "671ae2a3",
   "metadata": {},
   "outputs": [
    {
     "name": "stdout",
     "output_type": "stream",
     "text": [
      "['$RECYCLE.BIN', 'Software', 'System Volume Information', 'Windows10Upgrade']\n"
     ]
    }
   ],
   "source": [
    "print(os.listdir())\n"
   ]
  },
  {
   "cell_type": "code",
   "execution_count": 34,
   "id": "9441a3c6",
   "metadata": {},
   "outputs": [],
   "source": [
    "os.chdir(\"c:\\\\\")"
   ]
  },
  {
   "cell_type": "code",
   "execution_count": 35,
   "id": "be95d767",
   "metadata": {},
   "outputs": [],
   "source": [
    "os.chdir(\"c:\\\\Users\\\\Atif\\\\AI\")"
   ]
  },
  {
   "cell_type": "code",
   "execution_count": 36,
   "id": "08778662",
   "metadata": {},
   "outputs": [
    {
     "name": "stdout",
     "output_type": "stream",
     "text": [
      "c:\\Users\\Atif\\AI\n"
     ]
    }
   ],
   "source": [
    "print(os.getcwd())"
   ]
  },
  {
   "cell_type": "code",
   "execution_count": 37,
   "id": "22ad5142",
   "metadata": {},
   "outputs": [
    {
     "name": "stdout",
     "output_type": "stream",
     "text": [
      "['.ipynb_checkpoints', 'Rtest1', 'test3', 'Working with Directories.ipynb']\n"
     ]
    }
   ],
   "source": [
    "print(os.listdir())"
   ]
  },
  {
   "cell_type": "code",
   "execution_count": 38,
   "id": "327309cc",
   "metadata": {},
   "outputs": [
    {
     "ename": "FileExistsError",
     "evalue": "[WinError 183] Cannot create a file when that file already exists: 'test3'",
     "output_type": "error",
     "traceback": [
      "\u001b[1;31m---------------------------------------------------------------------------\u001b[0m",
      "\u001b[1;31mFileExistsError\u001b[0m                           Traceback (most recent call last)",
      "\u001b[1;32m<ipython-input-38-0bf1e8476393>\u001b[0m in \u001b[0;36m<module>\u001b[1;34m\u001b[0m\n\u001b[0;32m      1\u001b[0m \u001b[0mos\u001b[0m\u001b[1;33m.\u001b[0m\u001b[0mmkdir\u001b[0m\u001b[1;33m(\u001b[0m\u001b[1;34m'test1'\u001b[0m\u001b[1;33m)\u001b[0m\u001b[1;33m\u001b[0m\u001b[1;33m\u001b[0m\u001b[0m\n\u001b[0;32m      2\u001b[0m \u001b[0mos\u001b[0m\u001b[1;33m.\u001b[0m\u001b[0mmkdir\u001b[0m\u001b[1;33m(\u001b[0m\u001b[1;34m'test2'\u001b[0m\u001b[1;33m)\u001b[0m\u001b[1;33m\u001b[0m\u001b[1;33m\u001b[0m\u001b[0m\n\u001b[1;32m----> 3\u001b[1;33m \u001b[0mos\u001b[0m\u001b[1;33m.\u001b[0m\u001b[0mmkdir\u001b[0m\u001b[1;33m(\u001b[0m\u001b[1;34m'test3'\u001b[0m\u001b[1;33m)\u001b[0m\u001b[1;33m\u001b[0m\u001b[1;33m\u001b[0m\u001b[0m\n\u001b[0m",
      "\u001b[1;31mFileExistsError\u001b[0m: [WinError 183] Cannot create a file when that file already exists: 'test3'"
     ]
    }
   ],
   "source": [
    "os.mkdir('test1')\n",
    "os.mkdir('test2')\n",
    "os.mkdir('test3')"
   ]
  },
  {
   "cell_type": "code",
   "execution_count": 39,
   "id": "7f0f63a5",
   "metadata": {},
   "outputs": [
    {
     "name": "stdout",
     "output_type": "stream",
     "text": [
      "['.ipynb_checkpoints', 'Rtest1', 'test1', 'test2', 'test3', 'Working with Directories.ipynb']\n"
     ]
    }
   ],
   "source": [
    "print(os.listdir())"
   ]
  },
  {
   "cell_type": "code",
   "execution_count": 47,
   "id": "034ffcc8",
   "metadata": {},
   "outputs": [
    {
     "ename": "FileExistsError",
     "evalue": "[WinError 183] Cannot create a file when that file already exists: 'test1' -> 'Rtest1'",
     "output_type": "error",
     "traceback": [
      "\u001b[1;31m---------------------------------------------------------------------------\u001b[0m",
      "\u001b[1;31mFileExistsError\u001b[0m                           Traceback (most recent call last)",
      "\u001b[1;32m<ipython-input-47-dd120685db46>\u001b[0m in \u001b[0;36m<module>\u001b[1;34m\u001b[0m\n\u001b[1;32m----> 1\u001b[1;33m \u001b[0mos\u001b[0m\u001b[1;33m.\u001b[0m\u001b[0mrename\u001b[0m\u001b[1;33m(\u001b[0m\u001b[1;34m\"test1\"\u001b[0m\u001b[1;33m,\u001b[0m\u001b[1;34m\"Rtest1\"\u001b[0m\u001b[1;33m)\u001b[0m\u001b[1;33m\u001b[0m\u001b[1;33m\u001b[0m\u001b[0m\n\u001b[0m",
      "\u001b[1;31mFileExistsError\u001b[0m: [WinError 183] Cannot create a file when that file already exists: 'test1' -> 'Rtest1'"
     ]
    }
   ],
   "source": [
    "os.rename(\"test1\",\"Rtest1\")"
   ]
  },
  {
   "cell_type": "code",
   "execution_count": 41,
   "id": "4821bcb4",
   "metadata": {},
   "outputs": [],
   "source": [
    "#can only remove empty folders\n",
    "os.rmdir(\"test2\")"
   ]
  },
  {
   "cell_type": "code",
   "execution_count": 42,
   "id": "b29e8585",
   "metadata": {},
   "outputs": [
    {
     "name": "stdout",
     "output_type": "stream",
     "text": [
      "['.ipynb_checkpoints', 'Rtest1', 'test1', 'test3', 'Working with Directories.ipynb']\n"
     ]
    }
   ],
   "source": [
    "print(os.listdir())"
   ]
  },
  {
   "cell_type": "code",
   "execution_count": 43,
   "id": "50a593f7",
   "metadata": {},
   "outputs": [],
   "source": [
    "#for remvoing folders which is not rempty we have to do this\n",
    "import shutil\n",
    "\n",
    "shutil.rmtree(\"test3\")"
   ]
  },
  {
   "cell_type": "code",
   "execution_count": 44,
   "id": "9a018d79",
   "metadata": {},
   "outputs": [
    {
     "name": "stdout",
     "output_type": "stream",
     "text": [
      "['.ipynb_checkpoints', 'Rtest1', 'test1', 'Working with Directories.ipynb']\n"
     ]
    }
   ],
   "source": [
    "print(os.listdir())"
   ]
  },
  {
   "cell_type": "code",
   "execution_count": 49,
   "id": "e12e2cd5",
   "metadata": {},
   "outputs": [],
   "source": [
    "#stop making duplication folders\n",
    "os.makedirs(\"test3\", exist_ok=True)"
   ]
  },
  {
   "cell_type": "code",
   "execution_count": 51,
   "id": "667db129",
   "metadata": {},
   "outputs": [
    {
     "name": "stdout",
     "output_type": "stream",
     "text": [
      "['.ipynb_checkpoints', 'Rtest1', 'test1', 'test3', 'Working with Directories.ipynb']\n"
     ]
    }
   ],
   "source": [
    "print(os.listdir())"
   ]
  },
  {
   "cell_type": "code",
   "execution_count": 52,
   "id": "72d5452b",
   "metadata": {},
   "outputs": [
    {
     "name": "stdout",
     "output_type": "stream",
     "text": [
      "C:/Users/Atif\\.conda\n",
      "C:/Users/Atif\\.condarc\n",
      "C:/Users/Atif\\.continuum\n",
      "C:/Users/Atif\\.ipynb_checkpoints\n",
      "C:/Users/Atif\\.ipython\n",
      "C:/Users/Atif\\AI\n",
      "C:/Users/Atif\\anaconda3\n",
      "C:/Users/Atif\\AppData\n",
      "C:/Users/Atif\\Application Data\n",
      "C:/Users/Atif\\Contacts\n",
      "C:/Users/Atif\\Cookies\n",
      "C:/Users/Atif\\Desktop\n",
      "C:/Users/Atif\\Documents\n",
      "C:/Users/Atif\\Downloads\n",
      "C:/Users/Atif\\Favorites\n",
      "C:/Users/Atif\\IntelGraphicsProfiles\n",
      "C:/Users/Atif\\Links\n",
      "C:/Users/Atif\\Local Settings\n",
      "C:/Users/Atif\\Music\n",
      "C:/Users/Atif\\My Documents\n",
      "C:/Users/Atif\\NetHood\n",
      "C:/Users/Atif\\NTUSER.DAT\n",
      "C:/Users/Atif\\ntuser.dat.LOG1\n",
      "C:/Users/Atif\\ntuser.dat.LOG2\n",
      "C:/Users/Atif\\NTUSER.DAT{77a2c7ed-26f0-11e5-80da-e41d2d741090}.TM.blf\n",
      "C:/Users/Atif\\NTUSER.DAT{77a2c7ed-26f0-11e5-80da-e41d2d741090}.TMContainer00000000000000000001.regtrans-ms\n",
      "C:/Users/Atif\\NTUSER.DAT{77a2c7ed-26f0-11e5-80da-e41d2d741090}.TMContainer00000000000000000002.regtrans-ms\n",
      "C:/Users/Atif\\ntuser.ini\n",
      "C:/Users/Atif\\OneDrive\n",
      "C:/Users/Atif\\Pictures\n",
      "C:/Users/Atif\\PrintHood\n",
      "C:/Users/Atif\\Recent\n",
      "C:/Users/Atif\\Saved Games\n",
      "C:/Users/Atif\\Searches\n",
      "C:/Users/Atif\\SendTo\n",
      "C:/Users/Atif\\Start Menu\n",
      "C:/Users/Atif\\Templates\n",
      "C:/Users/Atif\\Videos\n"
     ]
    }
   ],
   "source": [
    "#reading multiple Directories\n",
    "path = \"C:/Users/Atif\"\n",
    "\n",
    "for i in os.listdir(path):\n",
    "    file1=os.path.join(path, i)\n",
    "    print(file1)"
   ]
  },
  {
   "cell_type": "code",
   "execution_count": null,
   "id": "03929b68",
   "metadata": {},
   "outputs": [],
   "source": []
  }
 ],
 "metadata": {
  "kernelspec": {
   "display_name": "Python 3",
   "language": "python",
   "name": "python3"
  },
  "language_info": {
   "codemirror_mode": {
    "name": "ipython",
    "version": 3
   },
   "file_extension": ".py",
   "mimetype": "text/x-python",
   "name": "python",
   "nbconvert_exporter": "python",
   "pygments_lexer": "ipython3",
   "version": "3.8.8"
  }
 },
 "nbformat": 4,
 "nbformat_minor": 5
}
