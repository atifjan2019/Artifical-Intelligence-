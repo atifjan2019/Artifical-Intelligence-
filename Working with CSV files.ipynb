{
 "cells": [
  {
   "cell_type": "code",
   "execution_count": 41,
   "id": "dbdf5ea1",
   "metadata": {},
   "outputs": [],
   "source": [
    "import os\n",
    "\n",
    "os.makedirs(\"csv_data\", exist_ok=True)"
   ]
  },
  {
   "cell_type": "code",
   "execution_count": 42,
   "id": "dee5c824",
   "metadata": {},
   "outputs": [],
   "source": [
    "import csv\n",
    "\n",
    "with open(\"csv_data/file1.csv\",\"w\", newline=\"\") as file:\n",
    "    writer = csv.writer(file)\n",
    "    writer.writerow([\"Name\",\"Dept\",\"Date\"])\n",
    "    writer.writerow([\"Ali\",\"BSCS\",\"March\"])\n",
    "    writer.writerow([\"Akif\",\"BSIT\",\"May\"])"
   ]
  },
  {
   "cell_type": "code",
   "execution_count": 43,
   "id": "e77cba0e",
   "metadata": {},
   "outputs": [
    {
     "name": "stdout",
     "output_type": "stream",
     "text": [
      "['Name', 'Dept', 'Date']\n",
      "['Ali', 'BSCS', 'March']\n",
      "['Akif', 'BSIT', 'May']\n"
     ]
    }
   ],
   "source": [
    "with open(\"csv_data/file1.csv\",\"r\") as file:\n",
    "    reader = csv.reader(file)\n",
    "    for row in reader:\n",
    "        print(row)"
   ]
  },
  {
   "cell_type": "code",
   "execution_count": 44,
   "id": "99af306e",
   "metadata": {},
   "outputs": [
    {
     "name": "stdout",
     "output_type": "stream",
     "text": [
      "Column name are Name, Dept, Date\n",
      "lines:  1\n",
      "\n",
      "Ali works in the BSCS department, and was born in March.\n",
      "lines:  2\n",
      "\n",
      "Akif works in the BSIT department, and was born in May.\n",
      "lines:  3\n"
     ]
    }
   ],
   "source": [
    "with open(\"csv_data/file1.csv\", \"r\") as file:\n",
    "    csv_reader = csv.reader(file, delimiter=',')\n",
    "    line_count = 0\n",
    "    for row in csv_reader:\n",
    "        if line_count==0:\n",
    "            print(f'Column name are {\", \".join(row)}')\n",
    "            line_count += 1\n",
    "        else:\n",
    "            print(f'\\n{row[0]} works in the {row[1]} department, and was born in {row[2]}.' )\n",
    "            line_count += 1\n",
    "        print(\"lines: \", line_count)"
   ]
  },
  {
   "cell_type": "markdown",
   "id": "582e9589",
   "metadata": {},
   "source": [
    "# Pandas"
   ]
  },
  {
   "cell_type": "code",
   "execution_count": 45,
   "id": "ab6f448f",
   "metadata": {},
   "outputs": [],
   "source": [
    "import pandas as pd"
   ]
  },
  {
   "cell_type": "code",
   "execution_count": 46,
   "id": "04f8b938",
   "metadata": {},
   "outputs": [
    {
     "name": "stdout",
     "output_type": "stream",
     "text": [
      "   Name  Dept   Date\n",
      "0   Ali  BSCS  March\n",
      "1  Akif  BSIT    May\n"
     ]
    }
   ],
   "source": [
    "df = pd.read_csv(\"csv_data/file1.csv\")\n",
    "print(df)"
   ]
  },
  {
   "cell_type": "code",
   "execution_count": 49,
   "id": "1affe733",
   "metadata": {},
   "outputs": [
    {
     "data": {
      "text/html": [
       "<div>\n",
       "<style scoped>\n",
       "    .dataframe tbody tr th:only-of-type {\n",
       "        vertical-align: middle;\n",
       "    }\n",
       "\n",
       "    .dataframe tbody tr th {\n",
       "        vertical-align: top;\n",
       "    }\n",
       "\n",
       "    .dataframe thead th {\n",
       "        text-align: right;\n",
       "    }\n",
       "</style>\n",
       "<table border=\"1\" class=\"dataframe\">\n",
       "  <thead>\n",
       "    <tr style=\"text-align: right;\">\n",
       "      <th></th>\n",
       "      <th>Name</th>\n",
       "      <th>Dept</th>\n",
       "    </tr>\n",
       "  </thead>\n",
       "  <tbody>\n",
       "    <tr>\n",
       "      <th>0</th>\n",
       "      <td>Ali</td>\n",
       "      <td>BSCS</td>\n",
       "    </tr>\n",
       "    <tr>\n",
       "      <th>1</th>\n",
       "      <td>Akif</td>\n",
       "      <td>BSIT</td>\n",
       "    </tr>\n",
       "  </tbody>\n",
       "</table>\n",
       "</div>"
      ],
      "text/plain": [
       "   Name  Dept\n",
       "0   Ali  BSCS\n",
       "1  Akif  BSIT"
      ]
     },
     "execution_count": 49,
     "metadata": {},
     "output_type": "execute_result"
    }
   ],
   "source": [
    "pd.read_csv(\"csv_data/file1.csv\", usecols= [\"Name\",\"Dept\"])"
   ]
  },
  {
   "cell_type": "code",
   "execution_count": null,
   "id": "25dfe966",
   "metadata": {},
   "outputs": [],
   "source": []
  }
 ],
 "metadata": {
  "kernelspec": {
   "display_name": "Python 3",
   "language": "python",
   "name": "python3"
  },
  "language_info": {
   "codemirror_mode": {
    "name": "ipython",
    "version": 3
   },
   "file_extension": ".py",
   "mimetype": "text/x-python",
   "name": "python",
   "nbconvert_exporter": "python",
   "pygments_lexer": "ipython3",
   "version": "3.8.8"
  }
 },
 "nbformat": 4,
 "nbformat_minor": 5
}
