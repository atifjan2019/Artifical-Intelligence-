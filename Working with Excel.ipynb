{
 "cells": [
  {
   "cell_type": "code",
   "execution_count": 3,
   "id": "f43a327d",
   "metadata": {},
   "outputs": [
    {
     "name": "stdout",
     "output_type": "stream",
     "text": [
      "column items ['cat (1)', 'cat (2)', 'cat (3)', 'cat (4)', 'cat (5)', 'cat (6)', 'cat (7)', 'cat (8)', 'cat (9)', 'cat (10)']\n"
     ]
    },
    {
     "name": "stderr",
     "output_type": "stream",
     "text": [
      "<ipython-input-3-6813b0a4f102>:5: DeprecationWarning: Call to deprecated function get_sheet_by_name (Use wb[sheetname]).\n",
      "  worksheet = workbook.get_sheet_by_name(\"Sheet1\")\n"
     ]
    }
   ],
   "source": [
    "from openpyxl import  load_workbook\n",
    "\n",
    "workbook = load_workbook(\"images/cats.xlsx\")\n",
    "\n",
    "worksheet = workbook.get_sheet_by_name(\"Sheet1\")\n",
    "\n",
    "column = worksheet[\"A\"]\n",
    "\n",
    "columnlist = [column[x].value for x in range(len(column))]\n",
    "\n",
    "print(\"column items\", columnlist)"
   ]
  },
  {
   "cell_type": "markdown",
   "id": "2d23464a",
   "metadata": {},
   "source": [
    "# copy file"
   ]
  },
  {
   "cell_type": "code",
   "execution_count": 7,
   "id": "615d8b84",
   "metadata": {},
   "outputs": [],
   "source": [
    "import shutil, os\n",
    "\n",
    "for f in columnlist:\n",
    "    shutil.copy(\"images/original/\" + str(f)+\".jpg\", \"images/copied/\")"
   ]
  },
  {
   "cell_type": "markdown",
   "id": "54f3ba8a",
   "metadata": {},
   "source": [
    "# move file\n"
   ]
  },
  {
   "cell_type": "code",
   "execution_count": 8,
   "id": "03614de4",
   "metadata": {},
   "outputs": [],
   "source": [
    "import shutil, os\n",
    "\n",
    "for f in columnlist:\n",
    "    shutil.move(\"images/original/\" + str(f)+\".jpg\", \"images/copied/\")"
   ]
  },
  {
   "cell_type": "code",
   "execution_count": null,
   "id": "6491c66a",
   "metadata": {},
   "outputs": [],
   "source": []
  }
 ],
 "metadata": {
  "kernelspec": {
   "display_name": "Python 3",
   "language": "python",
   "name": "python3"
  },
  "language_info": {
   "codemirror_mode": {
    "name": "ipython",
    "version": 3
   },
   "file_extension": ".py",
   "mimetype": "text/x-python",
   "name": "python",
   "nbconvert_exporter": "python",
   "pygments_lexer": "ipython3",
   "version": "3.8.8"
  }
 },
 "nbformat": 4,
 "nbformat_minor": 5
}
